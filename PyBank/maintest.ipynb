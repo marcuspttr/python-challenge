{
 "cells": [
  {
   "cell_type": "code",
   "execution_count": 6,
   "source": [
    "#Main for banking accounting problem.\r\n",
    "import os\r\n",
    "import pandas as pd"
   ],
   "outputs": [],
   "metadata": {}
  },
  {
   "cell_type": "code",
   "execution_count": null,
   "source": [
    "    #date will dollect all of the months into one list\r\n",
    "    date = []\r\n",
    "    \r\n",
    "    #money will calculate the total changes in net profits\r\n",
    "    money = 0\r\n",
    "    \r\n",
    "    #These variables will be used to determine greatest increase and decrease in net profits and track when they occurred.\r\n",
    "    #Previous will be used to calculate the rate of change from month to month. Needs to start at 0 so it doesn't break on starting.\r\n",
    "    #Note rate of change is determined by: Net Profit - Previous month's Net Profit\r\n",
    "    greatest = 0\r\n",
    "    greatdate = \"TBD\"\r\n",
    "    least = 0\r\n",
    "    leastdate = \"TBD\"\r\n",
    "    previous = 0\r\n",
    "    changes = []\r\n",
    "    \r\n",
    "    #The output file will be used to collect all the printed text to be put into the .txt file.\r\n",
    "    output = []"
   ],
   "outputs": [],
   "metadata": {}
  },
  {
   "cell_type": "code",
   "execution_count": 5,
   "source": [
    "    #As we read through each row of the banking information.\r\n",
    "        \r\n",
    "    #Capturing each month and total money as we go. Calculating the netprofit as previously discussed.\r\n",
    "        months = row[0]\r\n",
    "        netprofit = int(row[1])\r\n",
    "        date.append(months)\r\n",
    "        money += int(netprofit)\r\n",
    "        change = netprofit - previous\r\n",
    "        changes.append(change)\r\n",
    "        \r\n",
    "        #Checking if the current rate of change is the greatest seen so far, if it is keep track of the date.\r\n",
    "        #Note: decided to do these calculations here because we have simultaneous access to the rates of change along with the corresponding months they happened in.\r\n",
    "        if change > greatest:\r\n",
    "            greatest = change\r\n",
    "            greatdate = months\r\n",
    "        #Same idea except for greatest decrease.\r\n",
    "        elif change < least:\r\n",
    "            least = change\r\n",
    "            leastdate = months\r\n",
    "        \r\n",
    "        #Storing the current netprofit for reference of the calculations for the next row.\r\n",
    "        previous = netprofit\r\n",
    "    \r\n",
    "    #We captured all of the changes into a list. The first value is not a net change, but instead the initial value (you need two values [months] for a change).\r\n",
    "    #Thus we removed that value form the list when computinthe average.\r\n",
    "    changes.pop(0)\r\n",
    "    totalchange = 0\r\n",
    "    for monthly in changes:\r\n",
    "        totalchange += monthly"
   ],
   "outputs": [
    {
     "output_type": "stream",
     "name": "stdout",
     "text": [
      "Financial Analysis \n",
      "----------------------------\n",
      "Total Months: 86\n",
      "Total: $38382578\n",
      "Average Change: $-2315.12\n",
      "\n",
      "Greatest Increase in Profits: Feb-2012 ($1926159)\n",
      "Greatest Decrrease in Profits: Sep-2013 ($-2196167)\n"
     ]
    }
   ],
   "metadata": {}
  },
  {
   "cell_type": "code",
   "execution_count": null,
   "source": [
    "#Printing all of the financial summary calculations.\r\n",
    "    #Each is followed by output.append where we are also adding the text for the .txt output file.\r\n",
    "    print(\"Financial Analysis \\n----------------------------\")\r\n",
    "    output.append(\"Financial Analysis\\n----------------------------\")\r\n",
    "    \r\n",
    "    print(f\"Total Months: {len(date)}\")\r\n",
    "    output.append(f\"\\nTotal Months: {len(date)}\")\r\n",
    "\r\n",
    "    print(f\"Total: ${money}\")\r\n",
    "    output.append(f\"\\nTotal: ${money}\")\r\n",
    "\r\n",
    "    #Average change calculation, rounded to 2 decimals as it represents a dollar amount.\r\n",
    "    print(f\"Average Change: ${round(totalchange/len(changes),2)}\")\r\n",
    "    output.append(f\"\\nAverage Change: ${round(totalchange/len(changes),2)}\")\r\n",
    "\r\n",
    "\r\n",
    "    print(f\"\\nGreatest Increase in Profits: {greatdate} (${greatest})\")\r\n",
    "    output.append(f\"\\nGreatest Increase in Profits: {greatdate} (${greatest})\")\r\n",
    "\r\n",
    "    print(f\"Greatest Decrrease in Profits: {leastdate} (${least})\")\r\n",
    "    output.append(f\"\\nGreatest Decrrease in Profits: {leastdate} (${least})\")"
   ],
   "outputs": [],
   "metadata": {}
  },
  {
   "cell_type": "code",
   "execution_count": null,
   "source": [
    "#Declaring the text file we will be making\r\n",
    "textfile = open(\"Resources/bank.txt\",'w')\r\n",
    "\r\n",
    "#It's currently in a big list, so this will loop through it to print it out in the .txt file.\r\n",
    "for i in range(len(output)):\r\n",
    "    textfile.write(output[i])"
   ],
   "outputs": [],
   "metadata": {}
  }
 ],
 "metadata": {
  "orig_nbformat": 4,
  "language_info": {
   "name": "python",
   "version": "3.8.8",
   "mimetype": "text/x-python",
   "codemirror_mode": {
    "name": "ipython",
    "version": 3
   },
   "pygments_lexer": "ipython3",
   "nbconvert_exporter": "python",
   "file_extension": ".py"
  },
  "kernelspec": {
   "name": "python3",
   "display_name": "Python 3.8.8 64-bit ('base': conda)"
  },
  "interpreter": {
   "hash": "b3ba2566441a7c06988d0923437866b63cedc61552a5af99d1f4fb67d367b25f"
  }
 },
 "nbformat": 4,
 "nbformat_minor": 2
}