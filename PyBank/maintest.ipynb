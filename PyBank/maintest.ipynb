{
 "cells": [
  {
   "cell_type": "code",
   "execution_count": 2,
   "source": [
    "#Main for banking accounting problem.\r\n",
    "import os\r\n",
    "import pandas as pd"
   ],
   "outputs": [],
   "metadata": {}
  },
  {
   "cell_type": "code",
   "execution_count": 5,
   "source": [
    "bankdata = pd.read_csv(\"Resources/budget_data.csv\") "
   ],
   "outputs": [],
   "metadata": {}
  },
  {
   "cell_type": "code",
   "execution_count": 6,
   "source": [
    "#Counting total time elapsed in data.\r\n",
    "months = len(bankdata['Date'])\r\n",
    "print(f\"Total Months: {months}\")"
   ],
   "outputs": [
    {
     "output_type": "stream",
     "name": "stdout",
     "text": [
      "Total Months: 86\n"
     ]
    }
   ],
   "metadata": {}
  },
  {
   "cell_type": "code",
   "execution_count": 7,
   "source": [
    "#Calculating and saving total net profits.\r\n",
    "money = bankdata['Profit/Losses'].sum()\r\n",
    "print(f\"Total: ${money}\")"
   ],
   "outputs": [
    {
     "output_type": "stream",
     "name": "stdout",
     "text": [
      "Total: $38382578\n"
     ]
    }
   ],
   "metadata": {}
  },
  {
   "cell_type": "code",
   "execution_count": 15,
   "source": [
    "#Calculating the rates of change between profits/losses and then finding & storing the average.\r\n",
    "profit = bankdata['Profit/Losses'].astype(int)\r\n",
    "\r\n",
    "difference = profit.diff()\r\n",
    "\r\n",
    "ave_change = round(difference.mean(),2)\r\n",
    "print(f\"Average Change: ${ave_change}\")"
   ],
   "outputs": [
    {
     "output_type": "stream",
     "name": "stdout",
     "text": [
      "Average Change: $-2315.12\n"
     ]
    }
   ],
   "metadata": {}
  },
  {
   "cell_type": "code",
   "execution_count": 14,
   "source": [
    "#Adding the Rate of Change column to the table so we can find the max and min with the date.\r\n",
    "bankdata['Rate of Change'] = bankdata['Profit/Losses'].diff()\r\n",
    "\r\n",
    "#I don't think this is necessary to clean out the NaN, because its not a change of 0, it truly is not applicable.\r\n",
    "\r\n",
    "#bankdata['Rate of Change'] = bankdata['Rate of Change'].fillna(0)\r\n",
    "#bankdata['Rate of Change'].astype(int)\r\n",
    "\r\n",
    "max = bankdata[['Date','Rate of Change']][bankdata['Rate of Change']==bankdata['Rate of Change'].max()]\r\n",
    "\r\n",
    "min = bankdata[['Date','Rate of Change']][bankdata['Rate of Change']==bankdata['Rate of Change'].min()]\r\n",
    "\r\n",
    "print(f\"Greatest Increase in Profits:\\n {max}\\nGreatest Decrease in Profits:\\n {min}\")"
   ],
   "outputs": [
    {
     "output_type": "stream",
     "name": "stdout",
     "text": [
      "Greatest Increase in Profits:\n",
      "         Date  Rate of Change\n",
      "25  Feb-2012       1926159.0\n",
      "Greatest Decrease in Profits:\n",
      "         Date  Rate of Change\n",
      "44  Sep-2013      -2196167.0\n"
     ]
    }
   ],
   "metadata": {}
  },
  {
   "cell_type": "code",
   "execution_count": 13,
   "source": [
    "#Printing all of the financial summary calculations.\r\n",
    "\r\n",
    "output = []\r\n",
    "\r\n",
    "print(\"Financial Analysis \\n----------------------------\")\r\n",
    "output.append(\"Financial Analysis \\n----------------------------\")\r\n",
    "\r\n",
    "print(f\"Total Months: {months}\")\r\n",
    "output.append(f\"Total Months: {months}\\n\")\r\n",
    "\r\n",
    "print(f\"Total: ${money}\")\r\n",
    "output.append(f\"Total: ${money}\\n\")\r\n",
    "\r\n",
    "print(f\"Average Change: ${ave_change}\")\r\n",
    "output.append(f\"Average Change: ${ave_change}\\n\")\r\n",
    "\r\n",
    "print(f\"Greatest Increase in Profits:\\n {max}\\nGreatest Decrease in Profits:\\n {min}\")\r\n",
    "output.append(f\"Greatest Increase in Profits:\\n {max}\\nGreatest Decrease in Profits:\\n {min}\")"
   ],
   "outputs": [
    {
     "output_type": "stream",
     "name": "stdout",
     "text": [
      "Financial Analysis \n",
      "----------------------------\n",
      "Total Months: 86\n",
      "Total: $38382578\n",
      "Average Change: $-2315.12\n",
      "Greatest Increase in Profits:\n",
      "         Date  Rate of Change\n",
      "25  Feb-2012       1926159.0\n",
      "Greatest Decrease in Profits:\n",
      "         Date  Rate of Change\n",
      "44  Sep-2013      -2196167.0\n"
     ]
    }
   ],
   "metadata": {}
  },
  {
   "cell_type": "code",
   "execution_count": 12,
   "source": [
    "#Declaring the text file we will be making\r\n",
    "textfile = open(\"Resources/bigbank.txt\",'w+')\r\n",
    "\r\n",
    "#It's currently in a big list, so this will loop through it to print it out in the .txt file.\r\n",
    "for i in range(len(output)):\r\n",
    "    textfile.write(output[i])"
   ],
   "outputs": [],
   "metadata": {}
  }
 ],
 "metadata": {
  "interpreter": {
   "hash": "b3ba2566441a7c06988d0923437866b63cedc61552a5af99d1f4fb67d367b25f"
  },
  "kernelspec": {
   "name": "python3",
   "display_name": "Python 3.8.8 64-bit ('base': conda)"
  },
  "language_info": {
   "codemirror_mode": {
    "name": "ipython",
    "version": 3
   },
   "file_extension": ".py",
   "mimetype": "text/x-python",
   "name": "python",
   "nbconvert_exporter": "python",
   "pygments_lexer": "ipython3",
   "version": "3.8.8"
  }
 },
 "nbformat": 4,
 "nbformat_minor": 2
}