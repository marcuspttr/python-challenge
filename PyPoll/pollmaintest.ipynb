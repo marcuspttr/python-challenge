{
 "cells": [
  {
   "cell_type": "code",
   "execution_count": null,
   "source": [
    "#Main for election polling problem.\r\n",
    "import os\r\n",
    "import pandas as pd"
   ],
   "outputs": [],
   "metadata": {}
  },
  {
   "cell_type": "code",
   "execution_count": null,
   "source": [
    "\r\n",
    "    #Initialize ticker that will capture the number of votes. \r\n",
    "    #This is not needed as I can just take the length of my vote list.\r\n",
    "    totalvotes = 0\r\n",
    "    \r\n",
    "    #Candidate names are placed into a set because it does not allow duplicates.\r\n",
    "    candidates = set()\r\n",
    "    #Candidate names are placed into a list because it will allow for counting of duplicates.\r\n",
    "    votes = []\r\n",
    "    \r\n",
    "    #Initilizing the tracker for the winner of the election. Currently filled with placeholders.\r\n",
    "    winnername = \"TBD\"\r\n",
    "    winnervotes = 0\r\n",
    "\r\n",
    "    #Saving all of the ouput into a list to be exported later.\r\n",
    "    output = []"
   ],
   "outputs": [],
   "metadata": {}
  },
  {
   "cell_type": "code",
   "execution_count": null,
   "source": [
    "    for row in csvreader:\r\n",
    "        #Capturing the name of each candidate into the set.\r\n",
    "        candidates.add(row[2])\r\n",
    "        #Goes row by row tracking the votes.\r\n",
    "        votes.append(row[2])\r\n",
    "        totalvotes += 1\r\n",
    "    \r\n",
    "    #First the total votes in the polling data\r\n",
    "    #Each output.append is adding the printed text to a list so it will be output later to the .txt file.\r\n",
    "    print(\"Election Results \\n-------------------------\")\r\n",
    "    print(f\"Total Votes: {totalvotes}\\n-------------------------\")\r\n",
    "    output.append(f\"Election Results\\n-------------------------\\nTotal Votes: {totalvotes}\\n-------------------------\")"
   ],
   "outputs": [],
   "metadata": {}
  },
  {
   "cell_type": "code",
   "execution_count": null,
   "source": [
    "   #Reads through the set of candidate names, compares each name and counts how many times it appeared in the votes.\r\n",
    "    #Calculates each candidates % of votes using the total.\r\n",
    "    for candidate in candidates:\r\n",
    "       candyvote = int(votes.count(candidate))\r\n",
    "       \r\n",
    "       print(f\"{candidate}: {round((candyvote/totalvotes)*100,3)}% ({candyvote})\")\r\n",
    "       output.append(f\"\\n{candidate}: {round((candyvote/totalvotes)*100,3)}% ({candyvote})\")\r\n",
    "\r\n",
    "       #After each candidates individual total votes are calculated they are compared against the current votes leader, eventually finding the greatest.\r\n",
    "       if candyvote > winnervotes:\r\n",
    "           winnername = candidate\r\n",
    "           winnervotes = candyvote\r\n",
    "       \r\n",
    "    print(f\"-------------------------\\nWinner: {winnername}\\n-------------------------\")\r\n",
    "    output.append(\"\\n-------------------------\\nWinner: {winnername}\\n-------------------------\")"
   ],
   "outputs": [],
   "metadata": {}
  },
  {
   "cell_type": "code",
   "execution_count": null,
   "source": [
    "#Declaring the text file we will be making\r\n",
    "textfile = open(\"Resources/election.txt\",'w')\r\n",
    "\r\n",
    "#It's currently in a big list, so this will loop through it to print it out in the .txt file.\r\n",
    "for i in range(len(output)):\r\n",
    "    textfile.write(output[i])"
   ],
   "outputs": [],
   "metadata": {}
  }
 ],
 "metadata": {
  "orig_nbformat": 4,
  "language_info": {
   "name": "python"
  }
 },
 "nbformat": 4,
 "nbformat_minor": 2
}